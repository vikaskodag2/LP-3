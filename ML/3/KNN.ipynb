{
 "cells": [
  {
   "cell_type": "code",
   "execution_count": 78,
   "metadata": {
    "collapsed": true
   },
   "outputs": [],
   "source": [
    "import numpy as np\n",
    "import pandas as pd\n",
    "import matplotlib.pyplot as plt"
   ]
  },
  {
   "cell_type": "code",
   "execution_count": 79,
   "metadata": {},
   "outputs": [
    {
     "name": "stdout",
     "output_type": "stream",
     "text": [
      "   X  Y\n",
      "0  2  4\n",
      "1  4  2\n",
      "2  4  4\n",
      "3  4  6\n",
      "4  6  4\n",
      "5  6  2\n",
      "\n",
      "0    0\n",
      "1    0\n",
      "2    1\n",
      "3    1\n",
      "4    0\n",
      "5    1\n",
      "Name: Output, dtype: int64\n"
     ]
    }
   ],
   "source": [
    "df = pd.read_csv(\"data.csv\")\n",
    "X = df.drop('Output', axis = 1)\n",
    "Y = df['Output']\n",
    "print(X)\n",
    "print()\n",
    "print(Y)"
   ]
  },
  {
   "cell_type": "code",
   "execution_count": 80,
   "metadata": {},
   "outputs": [
    {
     "name": "stdout",
     "output_type": "stream",
     "text": [
      "['y', 'y', 'b', 'b', 'y', 'b']\n"
     ]
    },
    {
     "data": {
      "image/png": "[encoded data removed]",
      "text/plain": [
       "<matplotlib.figure.Figure at 0x7fdb95be6be0>"
      ]
     },
     "metadata": {},
     "output_type": "display_data"
    }
   ],
   "source": [
    "color = []\n",
    "Y = np.array(Y)\n",
    "for val in Y :\n",
    "    if val == 0 :\n",
    "        color.append('y')\n",
    "    else :\n",
    "        color.append('b')\n",
    "print(color)\n",
    "plt.scatter(X.iloc[:, 0], X.iloc[:, 1], color = color)\n",
    "plt.grid()\n",
    "plt.show()"
   ]
  },
  {
   "cell_type": "code",
   "execution_count": 102,
   "metadata": {},
   "outputs": [
    {
     "name": "stdout",
     "output_type": "stream",
     "text": [
      "Enter x value : 2\n",
      "Enter y value : 6\n"
     ]
    }
   ],
   "source": [
    "x_input = int(input(\"Enter x value : \"))\n",
    "y_input = int(input(\"Enter y value : \"))\n",
    "\n",
    "point = np.array([[x_input, y_input]])\n",
    "\n",
    "k_neighbours = 3"
   ]
  },
  {
   "cell_type": "code",
   "execution_count": 103,
   "metadata": {},
   "outputs": [
    {
     "name": "stdout",
     "output_type": "stream",
     "text": [
      "Point is :  [[2 6]]\n",
      "[1]\n",
      "Predicted Class :  blue\n"
     ]
    },
    {
     "data": {
      "image/png": "[encoded data removed]",
      "text/plain": [
       "<matplotlib.figure.Figure at 0x7fdb959efc88>"
      ]
     },
     "metadata": {},
     "output_type": "display_data"
    }
   ],
   "source": [
    "## Implementation using Sklearn\n",
    "\n",
    "\n",
    "from sklearn.neighbors import KNeighborsClassifier\n",
    "\n",
    "model = KNeighborsClassifier(n_neighbors = k_neighbours, weights = \"distance\")\n",
    "model.fit(X, Y)\n",
    "print(\"Point is : \", point)\n",
    "pred = model.predict(point)\n",
    "print(pred)\n",
    "if pred == 0 :\n",
    "    point_class = \"yellow\"\n",
    "    point_color = \"y\"\n",
    "else :\n",
    "    point_class = \"blue\"\n",
    "    point_color = \"b\"\n",
    "print(\"Predicted Class : \", point_class)\n",
    "X_temp = X.copy()\n",
    "X_temp.loc[X.shape[0]] = [x_input, y_input]\n",
    "color_temp = color.copy()\n",
    "color_temp.append(point_color)\n",
    "\n",
    "plt.scatter(X_temp.iloc[:, 0], X_temp.iloc[:, 1], color = color_temp)\n",
    "plt.grid()\n",
    "plt.show()"
   ]
  },
  {
   "cell_type": "code",
   "execution_count": 109,
   "metadata": {
    "collapsed": true
   },
   "outputs": [],
   "source": [
    "# # Custom implementation\n",
    "\n",
    "\n",
    "import heapq, math\n",
    "\n",
    "def distance(a, b, k) :\n",
    "#     return np.power(np.sum(np.power(np.abs(a - b), k)), 1 / k)\n",
    "    return pow( ( pow(a[0] - b[0], k) + pow(a[1] - b[1], k) ), 1 / k )\n",
    "\n",
    "\n",
    "class KNN :\n",
    "    def __init__(self, k = 3, weights = \"distance\", distance_method = \"general\", p = 2) :\n",
    "        self.k = k\n",
    "        self.weights = weights\n",
    "        self.metric = distance_method\n",
    "        self.power = p\n",
    "        self.x = None\n",
    "        self.y = None\n",
    "        \n",
    "        \n",
    "    def getneighbours(self, X) :\n",
    "        dist = []\n",
    "        for i in range (len(self.x)) :\n",
    "            dist.append( ( distance(self.x[i], X, self.power), i ) )\n",
    "        heapq.heapify(dist)\n",
    "        return heapq.nsmallest(self.k, dist)\n",
    "    \n",
    "            \n",
    "    def give_instance(self, X) :\n",
    "        class_freq = dict()\n",
    "        dist = self.getneighbours(X)\n",
    "#         print(dist)\n",
    "        weights = {}\n",
    "        if self.weights == 'uniform' :\n",
    "            weights = { val[1] : 1 for val in dist }\n",
    "        else :\n",
    "            for val in dist :\n",
    "                if val[0] > 0 :\n",
    "                    weights[val[1]] = (1 / (val[0] * 1.0))\n",
    "                else :\n",
    "                    return self.y[val[1]]\n",
    "                \n",
    "        total = sum(weights.values())\n",
    "        \n",
    "        for val in dist :\n",
    "            op_class = self.y[val[1]]\n",
    "            if op_class in class_freq :\n",
    "                class_freq[op_class] += weights[val[1]] * 1.0\n",
    "            else :\n",
    "                class_freq[op_class] = weights[val[1]] * 1.0\n",
    "                \n",
    "        final_class = None\n",
    "        max_freq = -10 ** 18\n",
    "        for key, value in class_freq.items() :\n",
    "            if max_freq < (value / total * 1.0) :\n",
    "                final_class = key\n",
    "                max_freq = (value / total * 1.0)\n",
    "        return final_class\n",
    "            \n",
    "        \n",
    "    def fit(self, x, y) :\n",
    "        self.x = x\n",
    "        self.y = y\n",
    "        \n",
    "        \n",
    "    def predict(self, X) :\n",
    "        Y_Pred = np.array([self.give_instance(i) for i in X])\n",
    "        return Y_Pred"
   ]
  },
  {
   "cell_type": "code",
   "execution_count": 110,
   "metadata": {},
   "outputs": [
    {
     "name": "stdout",
     "output_type": "stream",
     "text": [
      "[(2.0, 0), (2.0, 3), (2.8284271247461903, 2)]\n",
      "point is :  [[2 6]]\n",
      "[1]\n",
      "Predicted Class :  blue\n"
     ]
    },
    {
     "data": {
      "image/png": "[encoded data removed]",
      "text/plain": [
       "<matplotlib.figure.Figure at 0x7fdb956895f8>"
      ]
     },
     "metadata": {},
     "output_type": "display_data"
    }
   ],
   "source": [
    "model = KNN()\n",
    "model.fit(np.array(X), np.array(Y))\n",
    "# print(point)\n",
    "pred = model.predict(point)\n",
    "print(\"point is : \", point)\n",
    "print(pred)\n",
    "\n",
    "if pred == 0 :\n",
    "    point_class = \"yellow\"\n",
    "    point_color = \"y\"\n",
    "else :\n",
    "    point_class = \"blue\"\n",
    "    point_color = \"b\"\n",
    "print(\"Predicted Class : \", point_class)\n",
    "X_temp = X.copy()\n",
    "X_temp.loc[X.shape[0]] = [x_input, y_input]\n",
    "color_temp = color.copy()\n",
    "color_temp.append(point_color)\n",
    "\n",
    "plt.scatter(X_temp.iloc[:, 0], X_temp.iloc[:, 1], color = color_temp)\n",
    "plt.grid()\n",
    "plt.show()"
   ]
  },
  {
   "cell_type": "code",
   "execution_count": null,
   "metadata": {
    "collapsed": true
   },
   "outputs": [],
   "source": []
  }
 ],
 "metadata": {
  "kernelspec": {
   "display_name": "Python 3",
   "language": "python",
   "name": "python3"
  },
  "language_info": {
   "codemirror_mode": {
    "name": "ipython",
    "version": 3
   },
   "file_extension": ".py",
   "mimetype": "text/x-python",
   "name": "python",
   "nbconvert_exporter": "python",
   "pygments_lexer": "ipython3",
   "version": "3.6.3"
  }
 },
 "nbformat": 4,
 "nbformat_minor": 2
}
