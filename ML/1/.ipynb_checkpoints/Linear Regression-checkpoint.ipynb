{
 "cells": [
  {
   "cell_type": "code",
   "execution_count": 8,
   "metadata": {},
   "outputs": [
    {
     "data": {
      "image/png": "[encoded data removed]",
      "text/plain": [
       "<matplotlib.figure.Figure at 0x7f4ee47e8eb8>"
      ]
     },
     "metadata": {},
     "output_type": "display_data"
    }
   ],
   "source": [
    "import numpy as np\n",
    "import matplotlib.pyplot as plt\n",
    "from sklearn.metrics import mean_squared_error\n",
    "\n",
    "X = np.array([10,9,2,15,10,16,11,16])\n",
    "Y = np.array([95,80,10,50,45,98,38,93])\n",
    "\n",
    "plt.scatter(X, Y, color = \"black\", marker = \"*\")\n",
    "plt.grid()\n",
    "plt.show()"
   ]
  },
  {
   "cell_type": "code",
   "execution_count": 9,
   "metadata": {
    "collapsed": true
   },
   "outputs": [],
   "source": [
    "def find_coeff(x, y) :\n",
    "    N = x.shape[0]\n",
    "    x_mean = np.mean(x)\n",
    "    y_mean = np.mean(y)\n",
    "    \n",
    "    ss_xy = np.sum(x * y) - N * x_mean * y_mean\n",
    "    ss_xx = np.sum(x * x) - N * x_mean * x_mean\n",
    "    \n",
    "    b1 = ss_xy / ss_xx\n",
    "    b0 = y_mean - b1 * x_mean\n",
    "    \n",
    "    return b0, b1\n",
    "\n",
    "def mse(prediction, y_test) :\n",
    "    total_data = len(prediction)\n",
    "    error = 0\n",
    "    error = (np.sum((prediction - y_test)**2))/total_data\n",
    "    return error"
   ]
  },
  {
   "cell_type": "code",
   "execution_count": 10,
   "metadata": {},
   "outputs": [
    {
     "name": "stdout",
     "output_type": "stream",
     "text": [
      "The regression eq is y =  12.584627964022893  +  4.58789860997547 x\n",
      "MSE :  518.0047015535569\n"
     ]
    },
    {
     "data": {
      "image/png": "[encoded data removed]",
      "text/plain": [
       "<matplotlib.figure.Figure at 0x7f4ee47e80f0>"
      ]
     },
     "metadata": {},
     "output_type": "display_data"
    }
   ],
   "source": [
    "b0, b1 = find_coeff(X, Y)\n",
    "\n",
    "print(\"The regression eq is y = \", b0, \" + \", b1, \"x\")\n",
    "\n",
    "Y_Pred = b0 + b1 * X\n",
    "print(\"MSE : \", mse(Y_Pred, Y))\n",
    "\n",
    "plt.scatter(X, Y, color = \"blue\", marker = \"*\")\n",
    "plt.plot(X, Y_Pred, color = \"red\")\n",
    "plt.grid()\n",
    "plt.show()"
   ]
  },
  {
   "cell_type": "code",
   "execution_count": 12,
   "metadata": {},
   "outputs": [
    {
     "name": "stdout",
     "output_type": "stream",
     "text": [
      "MSE :  518.0047015535569\n",
      "The regression eq is y =  [12.58462796]  +  [4.58789861] x\n"
     ]
    },
    {
     "data": {
      "image/png": "[encoded data removed]",
      "text/plain": [
       "<matplotlib.figure.Figure at 0x7f4ee4685a58>"
      ]
     },
     "metadata": {},
     "output_type": "display_data"
    }
   ],
   "source": [
    "X = X.reshape([-1, 1])\n",
    "Y = Y.reshape([-1, 1])\n",
    "\n",
    "from sklearn.linear_model import LinearRegression\n",
    "\n",
    "model = LinearRegression()\n",
    "model.fit(X, Y)\n",
    "\n",
    "Y_Pred = model.predict(X)\n",
    "print(\"MSE : \", mean_squared_error(Y, Y_Pred))\n",
    "\n",
    "print(\"The regression eq is y = \", model.intercept_, \" + \", model.coef_[0], \"x\")\n",
    "plt.scatter(X, Y, color = \"blue\", marker = \"*\")\n",
    "plt.plot(X, Y_Pred, color = \"red\")\n",
    "plt.grid()\n",
    "plt.show()"
   ]
  },
  {
   "cell_type": "code",
   "execution_count": null,
   "metadata": {
    "collapsed": true
   },
   "outputs": [],
   "source": []
  }
 ],
 "metadata": {
  "kernelspec": {
   "display_name": "Python 3",
   "language": "python",
   "name": "python3"
  },
  "language_info": {
   "codemirror_mode": {
    "name": "ipython",
    "version": 3
   },
   "file_extension": ".py",
   "mimetype": "text/x-python",
   "name": "python",
   "nbconvert_exporter": "python",
   "pygments_lexer": "ipython3",
   "version": "3.6.3"
  }
 },
 "nbformat": 4,
 "nbformat_minor": 2
}
