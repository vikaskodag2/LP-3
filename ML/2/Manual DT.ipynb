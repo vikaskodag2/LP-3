{
 "cells": [
  {
   "cell_type": "code",
   "execution_count": 182,
   "metadata": {},
   "outputs": [],
   "source": [
    "import numpy as np\n",
    "import pandas as pd\n",
    "import matplotlib.pyplot as plt\n",
    "import math\n",
    "from sklearn.preprocessing import LabelEncoder"
   ]
  },
  {
   "cell_type": "code",
   "execution_count": 183,
   "metadata": {},
   "outputs": [
    {
     "data": {
      "text/html": [
       "<div>\n",
       "<style scoped>\n",
       "    .dataframe tbody tr th:only-of-type {\n",
       "        vertical-align: middle;\n",
       "    }\n",
       "\n",
       "    .dataframe tbody tr th {\n",
       "        vertical-align: top;\n",
       "    }\n",
       "\n",
       "    .dataframe thead th {\n",
       "        text-align: right;\n",
       "    }\n",
       "</style>\n",
       "<table border=\"1\" class=\"dataframe\">\n",
       "  <thead>\n",
       "    <tr style=\"text-align: right;\">\n",
       "      <th></th>\n",
       "      <th>Age</th>\n",
       "      <th>Income</th>\n",
       "      <th>Gender</th>\n",
       "      <th>Marital Status</th>\n",
       "      <th>Buys</th>\n",
       "    </tr>\n",
       "  </thead>\n",
       "  <tbody>\n",
       "    <tr>\n",
       "      <th>0</th>\n",
       "      <td>&lt;21</td>\n",
       "      <td>High</td>\n",
       "      <td>Male</td>\n",
       "      <td>Single</td>\n",
       "      <td>No</td>\n",
       "    </tr>\n",
       "    <tr>\n",
       "      <th>1</th>\n",
       "      <td>&lt;21</td>\n",
       "      <td>High</td>\n",
       "      <td>Male</td>\n",
       "      <td>Married</td>\n",
       "      <td>No</td>\n",
       "    </tr>\n",
       "    <tr>\n",
       "      <th>2</th>\n",
       "      <td>21-35</td>\n",
       "      <td>High</td>\n",
       "      <td>Male</td>\n",
       "      <td>Single</td>\n",
       "      <td>Yes</td>\n",
       "    </tr>\n",
       "    <tr>\n",
       "      <th>3</th>\n",
       "      <td>&gt;35</td>\n",
       "      <td>Medium</td>\n",
       "      <td>Male</td>\n",
       "      <td>Single</td>\n",
       "      <td>Yes</td>\n",
       "    </tr>\n",
       "    <tr>\n",
       "      <th>4</th>\n",
       "      <td>&gt;35</td>\n",
       "      <td>Low</td>\n",
       "      <td>Female</td>\n",
       "      <td>Single</td>\n",
       "      <td>Yes</td>\n",
       "    </tr>\n",
       "  </tbody>\n",
       "</table>\n",
       "</div>"
      ],
      "text/plain": [
       "     Age  Income  Gender Marital Status Buys\n",
       "0    <21    High    Male         Single   No\n",
       "1    <21    High    Male        Married   No\n",
       "2  21-35    High    Male         Single  Yes\n",
       "3    >35  Medium    Male         Single  Yes\n",
       "4    >35     Low  Female         Single  Yes"
      ]
     },
     "execution_count": 183,
     "metadata": {},
     "output_type": "execute_result"
    }
   ],
   "source": [
    "data=pd.read_csv('Dataset.csv')\n",
    "data=data.drop(columns='ID')\n",
    "data.head()"
   ]
  },
  {
   "cell_type": "code",
   "execution_count": null,
   "metadata": {},
   "outputs": [],
   "source": []
  },
  {
   "cell_type": "code",
   "execution_count": 240,
   "metadata": {},
   "outputs": [],
   "source": [
    "def cal_entropy(P,N):\n",
    "    return -(P/(P+N))*math.log((P/(P+N)),2)-(N/(P+N))*math.log((N/(P+N)),2)"
   ]
  },
  {
   "cell_type": "code",
   "execution_count": 241,
   "metadata": {},
   "outputs": [],
   "source": [
    "def entropy(df):\n",
    "    P=len(data.loc[(data['Buys']=='Yes')])\n",
    "    N=len(data.loc[(data['Buys']=='No')])\n",
    "    return -(P/(P+N))*math.log((P/(P+N)),2)-(N/(P+N))*math.log((N/(P+N)),2)"
   ]
  },
  {
   "cell_type": "code",
   "execution_count": 265,
   "metadata": {},
   "outputs": [],
   "source": [
    "def entropyAttribute(df,key):\n",
    "    vals=df[key].unique()\n",
    "    avg_entropy=0\n",
    "    for i in vals:\n",
    "        p=len(df.loc[(df[key]==i) & (df['Buys']=='Yes')])\n",
    "        n=len(df.loc[(df[key]==i) & (df['Buys']=='No')])\n",
    "        P=len(df.loc[df['Buys']=='Yes'])\n",
    "        N=len(df.loc[df['Buys']=='No'])\n",
    "        if p!=0 and n!=0:\n",
    "            \n",
    "            avg_entropy+=((p+n)/(P+N))*(cal_entropy(p,n))\n",
    "    return avg_entropy"
   ]
  },
  {
   "cell_type": "code",
   "execution_count": 266,
   "metadata": {},
   "outputs": [],
   "source": [
    "def findWinner(df):\n",
    "    G=[]\n",
    "    for key in df.keys()[:-1]:\n",
    "        G.append([entropy(df)-entropyAttribute(df,key),key])\n",
    "    G.sort()\n",
    "    return G[-1][1]"
   ]
  },
  {
   "cell_type": "code",
   "execution_count": 284,
   "metadata": {},
   "outputs": [],
   "source": [
    "def get_table(df,node,value):\n",
    "    return df.loc[(df[node]==value)]"
   ]
  },
  {
   "cell_type": "code",
   "execution_count": 289,
   "metadata": {},
   "outputs": [],
   "source": [
    "def build_tree(df,tree=None):\n",
    "    \n",
    "    node=findWinner(df)\n",
    "    attVals=df[node].unique()\n",
    "    \n",
    "    if tree is None:\n",
    "        tree={}\n",
    "        tree[node]={}\n",
    "    for value in attVals:\n",
    "        sub_table=get_table(df,node,value)\n",
    "        vals=sub_table['Buys'].unique()\n",
    "        if len(vals)==1:\n",
    "            tree[node][value]=vals[0]\n",
    "        else:\n",
    "            tree[node][value]=build_tree(sub_table)\n",
    "    return tree"
   ]
  },
  {
   "cell_type": "code",
   "execution_count": 291,
   "metadata": {},
   "outputs": [
    {
     "name": "stdout",
     "output_type": "stream",
     "text": [
      "{'Age': {'21-35': 'Yes',\n",
      "         '<21': {'Gender': {'Female': 'Yes', 'Male': 'No'}},\n",
      "         '>35': {'Marital Status': {'Married': 'No', 'Single': 'Yes'}}}}\n"
     ]
    }
   ],
   "source": [
    "tree=build_tree(data)\n",
    "import pprint\n",
    "pprint.pprint(tree)"
   ]
  },
  {
   "cell_type": "code",
   "execution_count": null,
   "metadata": {},
   "outputs": [],
   "source": []
  },
  {
   "cell_type": "code",
   "execution_count": null,
   "metadata": {},
   "outputs": [],
   "source": []
  },
  {
   "cell_type": "code",
   "execution_count": null,
   "metadata": {},
   "outputs": [],
   "source": []
  }
 ],
 "metadata": {
  "kernelspec": {
   "display_name": "Python 3",
   "language": "python",
   "name": "python3"
  },
  "language_info": {
   "codemirror_mode": {
    "name": "ipython",
    "version": 3
   },
   "file_extension": ".py",
   "mimetype": "text/x-python",
   "name": "python",
   "nbconvert_exporter": "python",
   "pygments_lexer": "ipython3",
   "version": "3.6.7"
  }
 },
 "nbformat": 4,
 "nbformat_minor": 2
}
