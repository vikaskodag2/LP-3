{
 "cells": [
  {
   "cell_type": "code",
   "execution_count": 1,
   "metadata": {
    "collapsed": true
   },
   "outputs": [],
   "source": [
    "import numpy as np\n",
    "import matplotlib.pyplot as plt\n",
    "import math"
   ]
  },
  {
   "cell_type": "code",
   "execution_count": 3,
   "metadata": {},
   "outputs": [
    {
     "data": {
      "image/png": "[encoded data removed]",
      "text/plain": [
       "<matplotlib.figure.Figure at 0x7f3674c7fda0>"
      ]
     },
     "metadata": {},
     "output_type": "display_data"
    }
   ],
   "source": [
    "points = [[0.2,0.8],[0.1,0.6],[0.15,0.71],[0.08,0.9],[0.16,0.85],[0.2,0.3],[0.25,0.5],[0.24,0.1],[0.3,0.2]]\n",
    "X = []\n",
    "Y = []\n",
    "for pt in points :\n",
    "    X.append(pt[0])\n",
    "    Y.append(pt[1])\n",
    "    \n",
    "plt.scatter(X, Y)\n",
    "plt.grid()\n",
    "plt.show()"
   ]
  },
  {
   "cell_type": "code",
   "execution_count": 8,
   "metadata": {},
   "outputs": [
    {
     "name": "stdout",
     "output_type": "stream",
     "text": [
      "0\n",
      "0\n",
      "0\n",
      "0\n",
      "0\n",
      "1\n",
      "1\n",
      "1\n",
      "1\n",
      "Cluster center : [0.138 0.772] [0.2475 0.275 ] "
     ]
    },
    {
     "data": {
      "image/png": "[encoded data removed]",
      "text/plain": [
       "<matplotlib.figure.Figure at 0x7f3666c77d30>"
      ]
     },
     "metadata": {},
     "output_type": "display_data"
    }
   ],
   "source": [
    "## Kmeans Sklearn implementation\n",
    "\n",
    "from sklearn.cluster import KMeans\n",
    "\n",
    "model = KMeans(n_clusters = 2)\n",
    "model.fit(points)\n",
    "color = []\n",
    "color_arr = ['b','g','y','orange']\n",
    "for i in range(len(model.labels_)):\n",
    "#     print(model.labels_[i])\n",
    "    color.append(color_arr[model.labels_[i]])\n",
    "    \n",
    "cluster_center = model.cluster_centers_\n",
    "cluster_x = []\n",
    "cluster_y = []\n",
    "print(\"Cluster center : \", end = \"\")\n",
    "for pt in cluster_center :\n",
    "    print(pt, end = \" \")\n",
    "    cluster_x.append(pt[0])\n",
    "    cluster_y.append(pt[1])\n",
    "\n",
    "plt.scatter(X, Y, color = color)\n",
    "plt.scatter(cluster_x, cluster_y, color = 'y', marker = \"*\")\n",
    "plt.show()"
   ]
  },
  {
   "cell_type": "code",
   "execution_count": 31,
   "metadata": {},
   "outputs": [],
   "source": [
    "## Custom kmeans implementation\n",
    "\n",
    "class KMeans :\n",
    "    def __init__(self, k = 2, num_iter = 100) :\n",
    "        self.k = k\n",
    "        self.num_iter = num_iter\n",
    "        self.clusters = {}\n",
    "        self.cluster_points = {}\n",
    "        self.labels = []\n",
    "        \n",
    "        \n",
    "    def get_dist(self, p, q) :\n",
    "        dist = 0\n",
    "        for i in range (len(p)) :\n",
    "            dist += (p[i] - q[i]) ** 2\n",
    "        return math.sqrt(dist)\n",
    "    \n",
    "    \n",
    "    def fit(self, points) :\n",
    "        for i in range(self.k) :\n",
    "            self.clusters[i] = points[i]\n",
    "            \n",
    "        self.labels = [-1] * len(points)\n",
    "        \n",
    "        while(self.num_iter > 0) :\n",
    "            self.num_iter -= 1\n",
    "            \n",
    "            for i in range (self.k) :\n",
    "                self.cluster_points[i] = []\n",
    "                \n",
    "            ind = 0\n",
    "            for pt in points :\n",
    "                cluster_idx = -1\n",
    "                min_val = 10 ** 18\n",
    "                for j in self.clusters :\n",
    "                    dist = self.get_dist(pt, self.clusters[j])\n",
    "                    if dist < min_val :\n",
    "                        min_val = dist\n",
    "                        cluster_idx = j\n",
    "                self.cluster_points[cluster_idx].append(pt)\n",
    "                self.labels[ind] = cluster_idx\n",
    "                ind += 1\n",
    "                \n",
    "            new_centroids = {}\n",
    "            \n",
    "            for i in self.clusters : \n",
    "                new_pt = [0] * len(points[0])\n",
    "                for j in self.cluster_points[i] :\n",
    "                    for p in range (len(j)) :\n",
    "                        new_pt[p] += j[p]\n",
    "                    \n",
    "                if len(self.cluster_points[i]) > 0 :\n",
    "                    for j in range (len(new_pt)) :\n",
    "                        new_pt[j] /= len(self.cluster_points[i])\n",
    "                new_centroids[i] = new_pt\n",
    "                \n",
    "#             if self.num_iter > 0 :\n",
    "            self.clusters = new_centroids\n",
    "#             print(self.clusters)"
   ]
  },
  {
   "cell_type": "code",
   "execution_count": 32,
   "metadata": {},
   "outputs": [
    {
     "name": "stdout",
     "output_type": "stream",
     "text": [
      "[0, 0, 0, 0, 0, 1, 1, 1, 1]\n",
      "{0: [0.138, 0.772], 1: [0.2475, 0.275]}\n",
      "Final Centroids with points : \n"
     ]
    },
    {
     "data": {
      "image/png": "[encoded data removed]",
      "text/plain": [
       "<matplotlib.figure.Figure at 0x7f3666b653c8>"
      ]
     },
     "metadata": {},
     "output_type": "display_data"
    }
   ],
   "source": [
    "color = []\n",
    "color_arr = ['b','g','y','orange']\n",
    "\n",
    "model = KMeans()\n",
    "model.fit(points)\n",
    "print(model.labels)\n",
    "for i in range (len(model.labels)) :\n",
    "    color.append(color_arr[model.labels[i]])\n",
    "    \n",
    "cluster_center = model.clusters\n",
    "print(model.clusters)\n",
    "cluster_x = []\n",
    "cluster_y = []\n",
    "# print(\"Cluster center : \", end = \"\")\n",
    "for pt in cluster_center :\n",
    "    cluster_x.append(cluster_center[pt][0])\n",
    "    cluster_y.append(cluster_center[pt][1])\n",
    "    \n",
    "print(\"Final Centroids with points : \")\n",
    "plt.scatter(X, Y, color = color)\n",
    "plt.scatter(cluster_x ,cluster_y, color=color_arr, marker=\"*\", s=100)\n",
    "plt.show()"
   ]
  },
  {
   "cell_type": "code",
   "execution_count": null,
   "metadata": {
    "collapsed": true
   },
   "outputs": [],
   "source": []
  }
 ],
 "metadata": {
  "kernelspec": {
   "display_name": "Python 3",
   "language": "python",
   "name": "python3"
  },
  "language_info": {
   "codemirror_mode": {
    "name": "ipython",
    "version": 3
   },
   "file_extension": ".py",
   "mimetype": "text/x-python",
   "name": "python",
   "nbconvert_exporter": "python",
   "pygments_lexer": "ipython3",
   "version": "3.6.3"
  }
 },
 "nbformat": 4,
 "nbformat_minor": 2
}
